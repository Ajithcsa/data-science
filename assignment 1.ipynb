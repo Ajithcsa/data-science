{
 "cells": [
  {
   "cell_type": "code",
   "execution_count": 6,
   "id": "d19dc84a",
   "metadata": {},
   "outputs": [
    {
     "data": {
      "text/plain": [
       "list"
      ]
     },
     "execution_count": 6,
     "metadata": {},
     "output_type": "execute_result"
    }
   ],
   "source": [
    "lst=['january','febrauary']\n",
    "type(month)"
   ]
  },
  {
   "cell_type": "code",
   "execution_count": 16,
   "id": "d06a2e09",
   "metadata": {},
   "outputs": [
    {
     "name": "stdout",
     "output_type": "stream",
     "text": [
      "['1,2,3,4,5', 6]\n"
     ]
    }
   ],
   "source": [
    "lst=[\"1,2,3,4,5\"]\n",
    "lst.append(6)\n",
    "print(lst)"
   ]
  },
  {
   "cell_type": "code",
   "execution_count": null,
   "id": "5aa7c7c4",
   "metadata": {},
   "outputs": [],
   "source": [
    "list.append() is used to add an element at the end of the list"
   ]
  },
  {
   "cell_type": "code",
   "execution_count": 19,
   "id": "c1b8ff35",
   "metadata": {},
   "outputs": [
    {
     "name": "stdout",
     "output_type": "stream",
     "text": [
      "['ajith', 'vjiay', 'hema', 'kesaven', 'priya']\n"
     ]
    }
   ],
   "source": [
    "lst=[\"ajith\",\"vjiay\",\"hema\"]\n",
    "lst1=(\"kesaven\",\"priya\")\n",
    "lst.extend(lst1)\n",
    "print(lst)"
   ]
  },
  {
   "cell_type": "code",
   "execution_count": null,
   "id": "50562dd5",
   "metadata": {},
   "outputs": [],
   "source": [
    "list.extend() is used to add all the items of a list to the end of this list"
   ]
  },
  {
   "cell_type": "code",
   "execution_count": 20,
   "id": "6034d7b1",
   "metadata": {},
   "outputs": [
    {
     "name": "stdout",
     "output_type": "stream",
     "text": [
      "['ajith', 'vjiay', 'parthibithan', 'hema', 'kesaven', 'priya']\n"
     ]
    }
   ],
   "source": [
    "lst.insert(2,\"parthibithan\")\n",
    "print(lst)"
   ]
  },
  {
   "cell_type": "code",
   "execution_count": null,
   "id": "111056c8",
   "metadata": {},
   "outputs": [],
   "source": [
    "list.insert() is used to adds an element at the specified position"
   ]
  },
  {
   "cell_type": "code",
   "execution_count": 21,
   "id": "36b0145f",
   "metadata": {},
   "outputs": [
    {
     "name": "stdout",
     "output_type": "stream",
     "text": [
      "['ajith', 'vjiay', 'hema', 'kesaven', 'priya']\n"
     ]
    }
   ],
   "source": [
    "lst.remove(\"parthibithan\")\n",
    "print(lst)"
   ]
  },
  {
   "cell_type": "code",
   "execution_count": null,
   "id": "d742e073",
   "metadata": {},
   "outputs": [],
   "source": [
    "list.remove() is used to remove a particular element from the list\n"
   ]
  },
  {
   "cell_type": "code",
   "execution_count": 22,
   "id": "162e3fca",
   "metadata": {},
   "outputs": [
    {
     "name": "stdout",
     "output_type": "stream",
     "text": [
      "['ajith', 'hema', 'kesaven', 'priya']\n"
     ]
    }
   ],
   "source": [
    "lst.pop(1)\n",
    "print(lst)"
   ]
  },
  {
   "cell_type": "code",
   "execution_count": null,
   "id": "de11069a",
   "metadata": {},
   "outputs": [],
   "source": [
    "list.pop() is used to remove an particular element from the list"
   ]
  },
  {
   "cell_type": "code",
   "execution_count": 24,
   "id": "518b7a3c",
   "metadata": {},
   "outputs": [
    {
     "name": "stdout",
     "output_type": "stream",
     "text": [
      "[]\n"
     ]
    }
   ],
   "source": [
    "lst.clear()\n",
    "print(lst)"
   ]
  },
  {
   "cell_type": "code",
   "execution_count": null,
   "id": "54c8b537",
   "metadata": {},
   "outputs": [],
   "source": [
    "list.clear() is used to remove all the element from the list"
   ]
  },
  {
   "cell_type": "code",
   "execution_count": 16,
   "id": "08a94e5d",
   "metadata": {},
   "outputs": [
    {
     "name": "stdout",
     "output_type": "stream",
     "text": [
      "['ajith', 'vjiay', 'relox', 'leo']\n"
     ]
    }
   ],
   "source": [
    "lst=[\"ajith\",\"vjiay\",\"relox\",\"leo\"]\n",
    "lst1=lst.copy()\n",
    "print(lst1)\n"
   ]
  },
  {
   "cell_type": "code",
   "execution_count": null,
   "id": "b88f51ca",
   "metadata": {},
   "outputs": [],
   "source": [
    "list.copy() is used to return a copy of the list"
   ]
  },
  {
   "cell_type": "code",
   "execution_count": 34,
   "id": "6207659e",
   "metadata": {},
   "outputs": [
    {
     "name": "stdout",
     "output_type": "stream",
     "text": [
      "0\n"
     ]
    }
   ],
   "source": [
    "lst=[\"vjiay\",\"suriya\",\"ajith\",\"ram\"]\n",
    "print(lst.index(\"vjiay\"))"
   ]
  },
  {
   "cell_type": "code",
   "execution_count": null,
   "id": "1125e00d",
   "metadata": {},
   "outputs": [],
   "source": [
    "list.index() is used to find the index value of the given element"
   ]
  },
  {
   "cell_type": "code",
   "execution_count": 36,
   "id": "933a44e6",
   "metadata": {},
   "outputs": [
    {
     "data": {
      "text/plain": [
       "1"
      ]
     },
     "execution_count": 36,
     "metadata": {},
     "output_type": "execute_result"
    }
   ],
   "source": [
    "lst.count(\"ram\")"
   ]
  },
  {
   "cell_type": "code",
   "execution_count": null,
   "id": "55dd13ee",
   "metadata": {},
   "outputs": [],
   "source": [
    "list.count() is used to count the number items with the specified value"
   ]
  },
  {
   "cell_type": "code",
   "execution_count": 12,
   "id": "d6755af3",
   "metadata": {},
   "outputs": [
    {
     "name": "stdout",
     "output_type": "stream",
     "text": [
      "[1, 2, 3, 4, 5, 6]\n",
      "[6, 5, 4, 3, 2, 1]\n"
     ]
    }
   ],
   "source": [
    "a=[6,3,4,1,5,2]\n",
    "a.sort()\n",
    "print(a)\n",
    "a.sort(reverse=True)\n",
    "print(a)"
   ]
  },
  {
   "cell_type": "code",
   "execution_count": null,
   "id": "7e695908",
   "metadata": {},
   "outputs": [],
   "source": [
    "a.sort() is used to arrange a list in ascending order it can also sort a list in reverse order\n"
   ]
  },
  {
   "cell_type": "code",
   "execution_count": 17,
   "id": "65a0dfc7",
   "metadata": {},
   "outputs": [
    {
     "name": "stdout",
     "output_type": "stream",
     "text": [
      "[6, 5, 4, 3, 2, 1, 7]\n"
     ]
    }
   ],
   "source": [
    "a.insert(8,7)\n",
    "print(a)\n"
   ]
  },
  {
   "cell_type": "code",
   "execution_count": null,
   "id": "0305cbfd",
   "metadata": {},
   "outputs": [],
   "source": [
    "a.insert() is used to adds an element at the specified position"
   ]
  }
 ],
 "metadata": {
  "kernelspec": {
   "display_name": "Python 3 (ipykernel)",
   "language": "python",
   "name": "python3"
  },
  "language_info": {
   "codemirror_mode": {
    "name": "ipython",
    "version": 3
   },
   "file_extension": ".py",
   "mimetype": "text/x-python",
   "name": "python",
   "nbconvert_exporter": "python",
   "pygments_lexer": "ipython3",
   "version": "3.11.5"
  }
 },
 "nbformat": 4,
 "nbformat_minor": 5
}
